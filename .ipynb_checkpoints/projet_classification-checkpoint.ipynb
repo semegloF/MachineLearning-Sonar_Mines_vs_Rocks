{
 "cells": [
  {
   "cell_type": "markdown",
   "id": "58933a8c",
   "metadata": {},
   "source": [
    "# Projet d'étude de cas sur l'apprentissage automatique de la classification binaire"
   ]
  },
  {
   "cell_type": "markdown",
   "id": "fcc47d2e",
   "metadata": {},
   "source": [
    "## Classification Accuracy"
   ]
  },
  {
   "cell_type": "code",
   "execution_count": 6,
   "id": "394fef61",
   "metadata": {},
   "outputs": [
    {
     "name": "stdout",
     "output_type": "stream",
     "text": [
      "Accuracy:  76.83333333333333 9.666813275923179\n"
     ]
    }
   ],
   "source": [
    "import warnings\n",
    "warnings.filterwarnings('ignore')\n",
    "# Load dataset\n",
    "from pandas import read_csv\n",
    "from sklearn.linear_model import LogisticRegression\n",
    "from sklearn.model_selection import KFold, cross_val_score\n",
    "filename = 'sonar.csv'\n",
    "#labels = ['preg', 'plas', 'pres', 'skin', 'test', 'mass', 'pedi', 'age', 'class'] \n",
    "dataframe = read_csv(filename)\n",
    "data_values = dataframe.values # Retrieve values from the dataframe\n",
    "# Separate array into input and output components\n",
    "X = data_values[  : , 0: -1] # data_values[  : , 0 :-1]\n",
    "Y = data_values[  : , -1] # data_values[  : , -1] # \n",
    "# Seed\n",
    "seed = 7\n",
    "split = 10\n",
    "# Create 10-folds\n",
    "kfold = KFold(n_splits = split, random_state=seed, shuffle=True)\n",
    "model = LogisticRegression()\n",
    "metric = 'accuracy'\n",
    "results = cross_val_score(model, X, Y, cv=kfold, scoring = metric)\n",
    "# Prediction -> Success rate (Accuracy)\n",
    "print(\"Accuracy: \",(results.mean()*100.0), results.std()*100.0)"
   ]
  },
  {
   "cell_type": "markdown",
   "id": "2db3193a",
   "metadata": {},
   "source": [
    "## Logarithmic Loss"
   ]
  },
  {
   "cell_type": "code",
   "execution_count": 8,
   "id": "cd146c73",
   "metadata": {},
   "outputs": [
    {
     "name": "stdout",
     "output_type": "stream",
     "text": [
      "Log Loss:  -0.5057885919580563 0.11473890871149907\n"
     ]
    }
   ],
   "source": [
    "\n",
    "metric = 'neg_log_loss'\n",
    "results = cross_val_score(model, X, Y, cv=kfold, scoring = metric)\n",
    "# Prediction -> Success rate (Accuracy)\n",
    "print(\"Log Loss: \",(results.mean()), results.std())"
   ]
  },
  {
   "cell_type": "markdown",
   "id": "b9fdaa74",
   "metadata": {},
   "source": [
    "## Area Under ROC Curve (AUC)"
   ]
  },
  {
   "cell_type": "code",
   "execution_count": 9,
   "id": "8472872a",
   "metadata": {},
   "outputs": [
    {
     "name": "stdout",
     "output_type": "stream",
     "text": [
      "AUC:  0.8659634122491265 0.08857040229311824\n"
     ]
    }
   ],
   "source": [
    "\n",
    "metric = 'roc_auc'\n",
    "results = cross_val_score(model, X, Y, cv=kfold, scoring = metric)\n",
    "# Prediction -> Success rate (Accuracy)\n",
    "print(\"AUC: \",(results.mean()), results.std())"
   ]
  },
  {
   "cell_type": "markdown",
   "id": "d28cd101",
   "metadata": {},
   "source": [
    "## Confusion Matrix"
   ]
  },
  {
   "cell_type": "code",
   "execution_count": 16,
   "id": "2ff0dbe2",
   "metadata": {},
   "outputs": [
    {
     "name": "stdout",
     "output_type": "stream",
     "text": [
      "Accuracy: 72.46 %\n",
      "[[28 11]\n",
      " [ 8 22]]\n"
     ]
    },
    {
     "ename": "ValueError",
     "evalue": "The truth value of an array with more than one element is ambiguous. Use a.any() or a.all()",
     "output_type": "error",
     "traceback": [
      "\u001b[1;31m---------------------------------------------------------------------------\u001b[0m",
      "\u001b[1;31mValueError\u001b[0m                                Traceback (most recent call last)",
      "\u001b[1;32m<ipython-input-16-2c40fdb2eea8>\u001b[0m in \u001b[0;36m<module>\u001b[1;34m\u001b[0m\n\u001b[0;32m     23\u001b[0m \u001b[1;32melif\u001b[0m \u001b[0mpredicted\u001b[0m\u001b[1;33m==\u001b[0m\u001b[0mY_train\u001b[0m\u001b[1;33m==\u001b[0m\u001b[1;34m\"M\"\u001b[0m\u001b[1;33m:\u001b[0m\u001b[1;33m\u001b[0m\u001b[1;33m\u001b[0m\u001b[0m\n\u001b[0;32m     24\u001b[0m     \u001b[0mTN\u001b[0m \u001b[1;33m=\u001b[0m \u001b[0mmatrix\u001b[0m\u001b[1;33m[\u001b[0m\u001b[1;36m0\u001b[0m\u001b[1;33m,\u001b[0m \u001b[1;36m0\u001b[0m\u001b[1;33m]\u001b[0m\u001b[1;33m\u001b[0m\u001b[1;33m\u001b[0m\u001b[0m\n\u001b[1;32m---> 25\u001b[1;33m \u001b[1;32melif\u001b[0m \u001b[0mpredicted\u001b[0m\u001b[1;33m==\u001b[0m\u001b[1;34m\"R\"\u001b[0m \u001b[1;32mand\u001b[0m \u001b[0mY_train\u001b[0m\u001b[1;33m==\u001b[0m\u001b[1;34m\"M\"\u001b[0m\u001b[1;33m:\u001b[0m\u001b[1;33m\u001b[0m\u001b[1;33m\u001b[0m\u001b[0m\n\u001b[0m\u001b[0;32m     26\u001b[0m     \u001b[0mFP\u001b[0m \u001b[1;33m=\u001b[0m \u001b[0mmatrix\u001b[0m\u001b[1;33m[\u001b[0m\u001b[1;36m0\u001b[0m\u001b[1;33m,\u001b[0m \u001b[1;36m1\u001b[0m\u001b[1;33m]\u001b[0m\u001b[1;33m\u001b[0m\u001b[1;33m\u001b[0m\u001b[0m\n\u001b[0;32m     27\u001b[0m \u001b[1;32melif\u001b[0m \u001b[0mpredicted\u001b[0m\u001b[1;33m==\u001b[0m\u001b[1;34m\"M\"\u001b[0m \u001b[1;32mand\u001b[0m \u001b[0mY_train\u001b[0m\u001b[1;33m==\u001b[0m\u001b[1;34m\"R\"\u001b[0m\u001b[1;33m:\u001b[0m\u001b[1;33m\u001b[0m\u001b[1;33m\u001b[0m\u001b[0m\n",
      "\u001b[1;31mValueError\u001b[0m: The truth value of an array with more than one element is ambiguous. Use a.any() or a.all()"
     ]
    }
   ],
   "source": [
    "from sklearn.linear_model import LogisticRegression\n",
    "from sklearn.model_selection import train_test_split # \n",
    "from sklearn.metrics import confusion_matrix\n",
    "\n",
    "size = 0.33 # Taille de test-set (33%)\n",
    "seed = 7\n",
    "X_train,X_test, Y_train, Y_test = train_test_split(X, Y, test_size = size, random_state=seed)\n",
    "# Training Steps\n",
    "model = LogisticRegression()\n",
    "# Learning / Apprentissage\n",
    "model.fit(X_train, Y_train) #  Apprentissage\n",
    "'''\n",
    "Compute Accuracy\n",
    "'''\n",
    "result = model.score(X_test, Y_test) # Return the success rate (Accuracy)\n",
    "print(\"Accuracy: %.2f %%\" % (result*100.0))\n",
    "# Prediction\n",
    "predicted = model.predict(X_test)\n",
    "matrix = confusion_matrix(Y_test, predicted)\n",
    "print(matrix)\n",
    "if predicted==Y_train==\"R\":\n",
    "    TP = matrix[1, 1]\n",
    "elif predicted==Y_train==\"M\":\n",
    "    TN = matrix[0, 0]\n",
    "elif predicted==\"R\" and Y_train==\"M\":\n",
    "    FP = matrix[0, 1]\n",
    "elif predicted==\"M\" and Y_train==\"R\":\n",
    "    FN = matrix[1, 0]\n",
    "\n",
    "\n",
    "\n",
    "print(\"True Positive: \", TP)\n",
    "print(\"False Positive: \", FP)\n",
    "print(\"True Negative: \", TN)\n",
    "print(\"False Negative: \", FN)\n",
    "accuracy = (TP+TN)/(TP+TN+FP+FN)\n",
    "print(\"Accuracy: \", (accuracy*100.0).round(2))\n",
    "'''\n",
    "precision = TP/(TP+FP)\n",
    "print(\"Precision: \", 8(precision*100.0).round(2))\n",
    "recall = TP/(TP+FN)\n",
    "print(\"Recall / Sensitivity: \", (recall*100.0).round(2))\n",
    "specificity = TN/(TN+FP)\n",
    "print(\"Specificity: \", (specificity*100.0).round(2))\n",
    "f1 = 2*precision*recall / (precision + recall)\n",
    "print(\"F1-measure: \", (f1*100.0).round(2))\n",
    "'''"
   ]
  },
  {
   "cell_type": "code",
   "execution_count": null,
   "id": "71b46d6c",
   "metadata": {},
   "outputs": [],
   "source": []
  }
 ],
 "metadata": {
  "kernelspec": {
   "display_name": "Python 3",
   "language": "python",
   "name": "python3"
  },
  "language_info": {
   "codemirror_mode": {
    "name": "ipython",
    "version": 3
   },
   "file_extension": ".py",
   "mimetype": "text/x-python",
   "name": "python",
   "nbconvert_exporter": "python",
   "pygments_lexer": "ipython3",
   "version": "3.8.8"
  }
 },
 "nbformat": 4,
 "nbformat_minor": 5
}
